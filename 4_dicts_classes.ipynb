{
  "cells": [
    {
      "cell_type": "markdown",
      "metadata": {
        "id": "view-in-github",
        "colab_type": "text"
      },
      "source": [
        "<a href=\"https://colab.research.google.com/github/mhpolas/-Dashboard-using-Dash-and-Plotly-/blob/main/4_dicts_classes.ipynb\" target=\"_parent\"><img src=\"https://colab.research.google.com/assets/colab-badge.svg\" alt=\"Open In Colab\"/></a>"
      ]
    },
    {
      "cell_type": "markdown",
      "id": "886713ec",
      "metadata": {
        "pycharm": {
          "name": "#%% md\n"
        },
        "id": "886713ec"
      },
      "source": [
        "Fill in your github username and idm credentials below:"
      ]
    },
    {
      "cell_type": "code",
      "execution_count": 2,
      "id": "89bd0df1",
      "metadata": {
        "pycharm": {
          "is_executing": true,
          "name": "#%%\n"
        },
        "vscode": {
          "languageId": "python"
        },
        "id": "89bd0df1"
      },
      "outputs": [],
      "source": [
        "github_username = \"od41atam\"\n",
        "idm_credentials = \"mhpolas\""
      ]
    },
    {
      "cell_type": "markdown",
      "id": "1c8f5783",
      "metadata": {
        "pycharm": {
          "name": "#%% md\n"
        },
        "id": "1c8f5783"
      },
      "source": [
        "---"
      ]
    },
    {
      "cell_type": "markdown",
      "id": "9ea9a0d2",
      "metadata": {
        "pycharm": {
          "name": "#%% md\n"
        },
        "tags": [],
        "id": "9ea9a0d2"
      },
      "source": [
        "# **Applied Data Science in Medicine & Psychology - Assignment 4**\n",
        "## Dictionaries and Classes\n",
        "---\n",
        "### **General Setup and Submission**\n",
        "1. Save an editable copy of this notebook to your Google Drive ``File`` $\\rightarrow$ ``Save a copy in Drive`` and remove the automatically appended \"Copy of\" text. **Do not change the original file name**.\n",
        "2. Work on the assignment in the *copied* version of the notebook. Make sure that you **replace** all parts of the tasks indicated with *YOUR CODE HERE* and **raise NotImplementedError()** (otherwise this causes an error in your implementation) or *YOUR ANSWER HERE* with your solution.\n",
        "3. If you take a break during the implementation, you can save the current status of your work in your repository following the submission instructions below. When you continue working on the assignment, do this in the version of the notebook that you saved in your Google Drive (access from your Google Colab account) or your repository.\n",
        "4. After finishing the assignment submit your assignment as follows:\n",
        "    * Check that everything runs as expected. To do that select in the menubar ``Runtime`` $\\rightarrow$ ``Restart and run all``. This will clear all your local variables and runs your notebook from the beginning.\n",
        "    * Save your notebook, click ``File`` $\\rightarrow$ ``Save``\n",
        "    * Click ``File`` $\\rightarrow$ ``Save a copy in GitHub``\n",
        "    * Select ``digikolleg-data-science-psychology/4-dicts-classes-<username>`` from the repository drop-down menu\n",
        "    * Type ``4_dicts_classes.ipynb`` into the file path text box\n",
        "    * Optionally, you may enter a description into the \"Commit message\" text box (like: \"solved task 1\" or \"ready for grading\")\n",
        "    * Make sure that the \"Include a link to Colaboratory\" box is checked\n",
        "    * Press \"Ok\"\n",
        "    * A new tab or window should open up, displaying your submitted notebook within your GitHub repository\n",
        "\n",
        "Before the assignment deadline, you can re-submit your assignment as often as you would like. This will update your assignment file in your assignment's repository."
      ]
    },
    {
      "cell_type": "markdown",
      "id": "8f6def37",
      "metadata": {
        "pycharm": {
          "name": "#%% md\n"
        },
        "id": "8f6def37"
      },
      "source": [
        "### **Assignment Description**\n",
        "In this assignment, you will explore two essential concepts in Python. *Dictionaries* are data structures that allow you to store, retrieve, and group data. *Classes* are the building blocks of object-oriented programming (OOP) and provide a way to create reusable, modular code. Learning *dictionaries* and *classes* fosters an object-oriented mindset, which is a powerful and widely-used programming paradigm.\n",
        "\n",
        "#### **Assignment Goals**\n",
        "You are going to learn the following things in this assignment:\n",
        "1. how to create a dictionary and add, remove, and change its elements\n",
        "2. how to create classes and instances of classes\n",
        "3. how to write class-specific methods\n",
        "4. how to use class inheritance\n",
        "5. how to define relationships between objects\n",
        "\n",
        "#### **Assignment Point Value**\n",
        "This assignment is worth a total (up to) **13** points. If your code passes all of the manual and automatic tests you will receive full credit."
      ]
    },
    {
      "cell_type": "markdown",
      "id": "fd96f825",
      "metadata": {
        "pycharm": {
          "name": "#%% md\n"
        },
        "id": "fd96f825"
      },
      "source": [
        "### **Tasks**\n",
        "Make sure that you now work on your *copied* version of this assignment's notebook."
      ]
    },
    {
      "cell_type": "markdown",
      "id": "e13e88e3",
      "metadata": {
        "pycharm": {
          "name": "#%% md\n"
        },
        "id": "e13e88e3"
      },
      "source": [
        "#### 0. Imports and Setup\n",
        "Please **run** the cell below to import the libraries needed for this assignment."
      ]
    },
    {
      "cell_type": "code",
      "execution_count": 1,
      "id": "eaa42e0c",
      "metadata": {
        "jupyter": {
          "outputs_hidden": false
        },
        "pycharm": {
          "name": "#%%\n"
        },
        "id": "eaa42e0c"
      },
      "outputs": [],
      "source": [
        "from datetime import date, datetime\n",
        "from contextlib import suppress"
      ]
    },
    {
      "cell_type": "markdown",
      "id": "ae9da63e-191a-4e55-a3a8-d5e47fac1589",
      "metadata": {
        "pycharm": {
          "name": "#%% md\n"
        },
        "id": "ae9da63e-191a-4e55-a3a8-d5e47fac1589"
      },
      "source": [
        "#### 1. Dictionary\n",
        "A dictionary is a type of data structure that stores key-value pairs. Each key in the dictionary is associated with a value:\n",
        "```\n",
        "dict_1 = {\n",
        "    key_1: value_1,\n",
        "    key_2: value_2\n",
        "}\n",
        "```\n",
        "\n",
        "##### 1.1 Create a dictionary called ``patient`` with the following key-value pairs:\n",
        "\n",
        "| key | value |\n",
        "| :- | :- |\n",
        "|first_name|Jane|\n",
        "|last_name|Doe|\n",
        "|height|167.3|\n",
        "|vegetarian|True|\n",
        "|allergies|[pollen, dust, peanuts]|\n",
        "|blood_test_results|None|"
      ]
    },
    {
      "cell_type": "code",
      "execution_count": 7,
      "id": "29050451-1add-4779-b518-c09957f26e64",
      "metadata": {
        "deletable": false,
        "nbgrader": {
          "cell_type": "code",
          "checksum": "8d93a16c88181fffbe96bb804bb3e9c6",
          "grade": false,
          "grade_id": "create_dict",
          "locked": false,
          "schema_version": 3,
          "solution": true,
          "task": false
        },
        "pycharm": {
          "name": "#%%\n"
        },
        "tags": [],
        "id": "29050451-1add-4779-b518-c09957f26e64"
      },
      "outputs": [],
      "source": [
        "patient ={\"first_name\": \"Jane\",\n",
        "          \"last_name\": \"Doe\",\n",
        "          \"height\": 167.3,\n",
        "          \"vegetarian\": True,\n",
        "          \"allergies\": [\"pollen\", \"dust\", \"peanuts\"],\n",
        "          \"blood_test_results\": None,}\n"
      ]
    },
    {
      "cell_type": "code",
      "execution_count": 8,
      "id": "d128a067-7470-4a24-8ba0-66068c9fee80",
      "metadata": {
        "deletable": false,
        "editable": false,
        "nbgrader": {
          "cell_type": "code",
          "checksum": "0fb4d5a25a870479239dcf00fff44aa1",
          "grade": true,
          "grade_id": "create_dict_test",
          "locked": true,
          "points": 0.5,
          "schema_version": 3,
          "solution": false,
          "task": false
        },
        "pycharm": {
          "name": "#%%\n"
        },
        "tags": [],
        "id": "d128a067-7470-4a24-8ba0-66068c9fee80"
      },
      "outputs": [],
      "source": [
        "# run tests to check your implementation\n",
        "assert len(patient) == 6, \"Check if you added all key-value pairs\"\n",
        "assert list(patient.keys()) == ['first_name', 'last_name', 'height', 'vegetarian', 'allergies', 'blood_test_results'], \"Check if you added all key-value pairs correctly\"\n",
        "assert patient[\"first_name\"] == \"Jane\", \"Check if you assigned the correct value to the keys\""
      ]
    },
    {
      "cell_type": "markdown",
      "id": "96d296b9-b695-4fb2-8ac5-a6de074e010e",
      "metadata": {
        "pycharm": {
          "name": "#%% md\n"
        },
        "id": "96d296b9-b695-4fb2-8ac5-a6de074e010e"
      },
      "source": [
        "##### 1.2 Add the key ``age`` with value 24 to the ``patient`` dictionary:"
      ]
    },
    {
      "cell_type": "code",
      "execution_count": 9,
      "id": "6a408fe4-fbd6-43f2-9546-9bafadb58169",
      "metadata": {
        "deletable": false,
        "nbgrader": {
          "cell_type": "code",
          "checksum": "f7776752c88482f20c1d45a36a6ffee5",
          "grade": false,
          "grade_id": "add_key",
          "locked": false,
          "schema_version": 3,
          "solution": true,
          "task": false
        },
        "pycharm": {
          "name": "#%%\n"
        },
        "tags": [],
        "id": "6a408fe4-fbd6-43f2-9546-9bafadb58169"
      },
      "outputs": [],
      "source": [
        "patient[\"age\"] = 24"
      ]
    },
    {
      "cell_type": "code",
      "execution_count": 10,
      "id": "6c8b124a-9cf2-43ac-a00a-6a42b2afe7e1",
      "metadata": {
        "deletable": false,
        "editable": false,
        "nbgrader": {
          "cell_type": "code",
          "checksum": "1249c7c6a3ffa2ae46e1b7eb2a0b8b4b",
          "grade": true,
          "grade_id": "add_key_test",
          "locked": true,
          "points": 0.5,
          "schema_version": 3,
          "solution": false,
          "task": false
        },
        "pycharm": {
          "name": "#%%\n"
        },
        "tags": [],
        "id": "6c8b124a-9cf2-43ac-a00a-6a42b2afe7e1"
      },
      "outputs": [],
      "source": [
        "# run test to check your implementation\n",
        "assert patient[\"age\"], \"Check if you added the key-value pair correctly\""
      ]
    },
    {
      "cell_type": "markdown",
      "id": "f8cd3280-043b-4d21-a2ae-08c458e8ee49",
      "metadata": {
        "pycharm": {
          "name": "#%% md\n"
        },
        "id": "f8cd3280-043b-4d21-a2ae-08c458e8ee49"
      },
      "source": [
        "##### 1.3 Create another dictionary called ``blood_test_results`` and change the ``blood_test_results`` key of ``patient``:\n",
        "| key | value |\n",
        "| :- | :- |\n",
        "|hemoglobin|13.6|\n",
        "|potassium|4.5|"
      ]
    },
    {
      "cell_type": "code",
      "execution_count": 12,
      "id": "7488e0d2-677a-485f-bd7e-c9bcbbf1b003",
      "metadata": {
        "deletable": false,
        "nbgrader": {
          "cell_type": "code",
          "checksum": "8c3a1d3e1bdf5a0d76a0374d199c2895",
          "grade": false,
          "grade_id": "change_dict",
          "locked": false,
          "schema_version": 3,
          "solution": true,
          "task": false
        },
        "pycharm": {
          "name": "#%%\n"
        },
        "tags": [],
        "id": "7488e0d2-677a-485f-bd7e-c9bcbbf1b003"
      },
      "outputs": [],
      "source": [
        "blood_test_results = {\"hemoglobin\": 13.6,\n",
        "                       \"potassium\": 4.5}\n",
        "patient[\"blood_test_results\"] = blood_test_results"
      ]
    },
    {
      "cell_type": "code",
      "execution_count": 13,
      "id": "26ee014f-567a-4965-8f0c-c5c4e5cd50a3",
      "metadata": {
        "deletable": false,
        "editable": false,
        "nbgrader": {
          "cell_type": "code",
          "checksum": "af916b33f3c59bbf18c4cc741ca06840",
          "grade": true,
          "grade_id": "change_dict_test",
          "locked": true,
          "points": 0.5,
          "schema_version": 3,
          "solution": false,
          "task": false
        },
        "pycharm": {
          "name": "#%%\n"
        },
        "tags": [],
        "id": "26ee014f-567a-4965-8f0c-c5c4e5cd50a3"
      },
      "outputs": [],
      "source": [
        "# run test to check your implementation\n",
        "assert len(patient[\"blood_test_results\"]) == 2, \"Check if you added both elements to the dictionary\""
      ]
    },
    {
      "cell_type": "markdown",
      "id": "cb93ab49-4bf0-4dc2-b4e8-ccea20847b8a",
      "metadata": {
        "pycharm": {
          "name": "#%% md\n"
        },
        "id": "cb93ab49-4bf0-4dc2-b4e8-ccea20847b8a"
      },
      "source": [
        "##### 1.4 Remove the key-value pair associated with ``allergies`` from ``patient``:"
      ]
    },
    {
      "cell_type": "code",
      "execution_count": 14,
      "id": "c12d2719-791e-47c4-ad86-8609be713b78",
      "metadata": {
        "deletable": false,
        "nbgrader": {
          "cell_type": "code",
          "checksum": "3ef90adbd4f289c8897e7f2ef9167ff3",
          "grade": false,
          "grade_id": "remove_key",
          "locked": false,
          "schema_version": 3,
          "solution": true,
          "task": false
        },
        "pycharm": {
          "name": "#%%\n"
        },
        "tags": [],
        "id": "c12d2719-791e-47c4-ad86-8609be713b78",
        "colab": {
          "base_uri": "https://localhost:8080/"
        },
        "outputId": "ece2c4b8-5512-461b-fdf0-c7cc057422a3"
      },
      "outputs": [
        {
          "output_type": "stream",
          "name": "stdout",
          "text": [
            "{'first_name': 'Jane', 'last_name': 'Doe', 'height': 167.3, 'vegetarian': True, 'blood_test_results': {'hemoglobin': 13.6, 'potassium': 4.5}, 'age': 24}\n"
          ]
        }
      ],
      "source": [
        "patient.pop(\"allergies\")\n",
        "print(patient)"
      ]
    },
    {
      "cell_type": "code",
      "execution_count": null,
      "id": "cc7f83ce-1d49-43ed-8a33-87447e242f55",
      "metadata": {
        "deletable": false,
        "editable": false,
        "nbgrader": {
          "cell_type": "code",
          "checksum": "cc7674c70c1e6715dcc0eab837033db1",
          "grade": true,
          "grade_id": "remove_key_test",
          "locked": true,
          "points": 0.5,
          "schema_version": 3,
          "solution": false,
          "task": false
        },
        "pycharm": {
          "name": "#%%\n"
        },
        "tags": [],
        "id": "cc7f83ce-1d49-43ed-8a33-87447e242f55"
      },
      "outputs": [],
      "source": [
        "# run test to check your implementation\n",
        "with suppress(KeyError): patient[\"allergies\"]; assert False, \"Ensure that you removed the correct key-value pair\""
      ]
    },
    {
      "cell_type": "markdown",
      "id": "1a4f7d9f",
      "metadata": {
        "pycharm": {
          "name": "#%% md\n"
        },
        "id": "1a4f7d9f"
      },
      "source": [
        "#### 2. Classes - Medical Records System\n",
        "In this task, you will create a simulation of a patient's medical records system. Therefore, you will create 5 different classes:\n",
        "* ``Medication``: Stores information like name and dosage for one type of medication. It is possible to change the prescribed dosage.\n",
        "* ``Session``: Contains the information about any appointment a patient could have. Also, notes can be stored after the session.\n",
        "* ``Physician``: Is the base class for every physician. A physician can schedule sessions for their patients and add notes to the sessions.\n",
        "* ``PrimaryCarePhysician``: Inherits all functionalities from ``Physician`` and is able to refer a patient to a specialist.\n",
        "* ``Patient``: Is the base of the medical records system. All medications, sessions, and referrals are stored there. Also, any modifications are initiated using this class. Furthermore, it can visualize all stored entries for the user.\n",
        "\n",
        "##### 2.1 Create the class ``Medication``, to do so:\n",
        "* Create a class ``Medication``\n",
        "* Create the constructor (``__init__()``) with ``name`` and ``dosage`` as parameters. Initialize the attributes of the object ``self.name`` and ``self.dosage`` with the respective parameter.\n",
        "* Create the method ``update_dosage`` with ``new_dosage`` as parameter which updates the object attribute ``self.dosage``\n",
        "* Provide a meaningful string representation of your object using the ``__str__(self)`` method (one of the [special methods](https://rszalski.github.io/magicmethods/#representations) in Python). For example, if the object's ``name`` is \"Ibuprofen\" and ``dosage`` is \"200 mg\" you could return: \"Medication: Ibuprofen, Dosage: 200 mg\". You can use [Formatted String Literals](https://docs.python.org/3/tutorial/inputoutput.html#tut-f-strings) for that.\n",
        "* Create an instance of ``Medication`` to test your implementation and try to access its object attributes\n",
        "\n",
        "**Hint**: If the instantiation doesn't work properly, have a look at the ``self`` keyword and its meaning and usage."
      ]
    },
    {
      "cell_type": "code",
      "execution_count": 37,
      "id": "3d2cafaf",
      "metadata": {
        "deletable": false,
        "jupyter": {
          "outputs_hidden": false
        },
        "nbgrader": {
          "cell_type": "code",
          "checksum": "1c40edcfe702a76927b8d7a9f1911760",
          "grade": false,
          "grade_id": "medication",
          "locked": false,
          "schema_version": 3,
          "solution": true,
          "task": false
        },
        "pycharm": {
          "name": "#%%\n"
        },
        "tags": [],
        "id": "3d2cafaf"
      },
      "outputs": [],
      "source": [
        "class Medication:\n",
        "    def __init__(self, name, dosage):\n",
        "        self.name = name\n",
        "        self.dosage = dosage\n",
        "\n",
        "    def update_dosage(self, new_dosage):\n",
        "        self.dosage = new_dosage\n",
        "\n",
        "    def __str__(self):\n",
        "        return f\"Medication: {self.name}, Dosage: {self.dosage}\""
      ]
    },
    {
      "cell_type": "code",
      "execution_count": 38,
      "id": "81726de4-6cfd-4b60-92d9-cc453388ad6d",
      "metadata": {
        "deletable": false,
        "editable": false,
        "nbgrader": {
          "cell_type": "code",
          "checksum": "9a402ce41c6f1300b5a2b638abc28f5b",
          "grade": true,
          "grade_id": "medication_test",
          "locked": true,
          "points": 1,
          "schema_version": 3,
          "solution": false,
          "task": false
        },
        "pycharm": {
          "name": "#%%\n"
        },
        "tags": [],
        "id": "81726de4-6cfd-4b60-92d9-cc453388ad6d"
      },
      "outputs": [],
      "source": [
        "# run tests to check your implementation\n",
        "medication = Medication(\"Ibuprofen\", \"200 mg\")\n",
        "assert medication.name == \"Ibuprofen\" and  medication.dosage == \"200 mg\", \"Ensure that you save the constructor parameters as object attributes\"\n",
        "medication.update_dosage(\"400 mg\"),\n",
        "assert medication.dosage == \"400 mg\", \"Ensure that you save new_dosage in the respective object attribute\"\n",
        "assert medication.name in str(medication) and medication.dosage in str(medication), \"Ensure that you return a string with all the relevant information\""
      ]
    },
    {
      "cell_type": "markdown",
      "id": "50f96ff7-36b3-4547-b1e0-f644992a3b4c",
      "metadata": {
        "pycharm": {
          "name": "#%% md\n"
        },
        "id": "50f96ff7-36b3-4547-b1e0-f644992a3b4c"
      },
      "source": [
        "##### 2.2 Create the class ``Session``, to do so:\n",
        "* Create a class ``Session``\n",
        "* Create a constructor with ``session_date``, ``physician_name``, and ``purpose`` as parameters\n",
        "    * Save ``session_date`` only as object attribute if it is of type ``datetime.date``. Otherwise, raise a TypeError with a meaningful message for the user. The class ``date`` is already imported from the module ``datetime`` at the beginning of the assignment.\n",
        "    * Save ``physician_name`` only as object attribute if it is of type ``str``. Otherwise raise a TypeError with a meaningful message.\n",
        "    * Save ``purpose`` as an object attribute with the name accordingly\n",
        "    * Furthermore, create an object attribute ``notes`` and initialize it with an empty dictionary.\n",
        "* Create a method ``add_session_notes`` with the parameter ``notes``. Save ``notes`` in the respective object attribute using the current local date and time as key. Check out the [datetime](https://docs.python.org/3/library/datetime.html#module-datetime) module for a suitable function.\n",
        "* Provide a string representation of ``Session`` like for ``Medication``. Include all object attributes (also the notes). **Hint**: ``date`` also has a built-in string representation.\n",
        "* Create an instance of ``Session`` and test your methods"
      ]
    },
    {
      "cell_type": "code",
      "execution_count": 39,
      "id": "e405e5e9",
      "metadata": {
        "deletable": false,
        "jupyter": {
          "outputs_hidden": false
        },
        "nbgrader": {
          "cell_type": "code",
          "checksum": "eb69c41c213d7b0a5c2a74907771a79d",
          "grade": false,
          "grade_id": "session",
          "locked": false,
          "schema_version": 3,
          "solution": true,
          "task": false
        },
        "pycharm": {
          "name": "#%%\n"
        },
        "tags": [],
        "id": "e405e5e9"
      },
      "outputs": [],
      "source": [
        "class Session:\n",
        "    def __init__(self, session_date, physician_name, purpose):\n",
        "        if isinstance(session_date, date):\n",
        "            self.session_date = session_date\n",
        "        else:\n",
        "            raise TypeError(\"session_date must be a datetime.date object\")\n",
        "\n",
        "\n",
        "        if isinstance(physician_name, str):\n",
        "            self.physician_name = physician_name\n",
        "        else:\n",
        "            raise TypeError(\"physician_name must be a string\")\n",
        "\n",
        "\n",
        "        self.purpose = purpose\n",
        "        self.notes = {}\n",
        "\n",
        "    def add_session_notes(self, notes):\n",
        "\n",
        "        self.notes[datetime.now()] = notes\n",
        "\n",
        "\n",
        "    def __str__(self):\n",
        "        notes_str = \", \".join([f\"{k.strftime('%Y-%m-%d %H:%M:%S')}: {v}\" for k, v in self.notes.items()])\n",
        "        return f\"Session Date: {self.session_date}, Physician: {self.physician_name}, Purpose: {self.purpose}, Notes: {{{notes_str}}}\""
      ]
    },
    {
      "cell_type": "code",
      "execution_count": 23,
      "id": "cca9b062-044f-439b-bf1d-f672cafe4946",
      "metadata": {
        "deletable": false,
        "editable": false,
        "nbgrader": {
          "cell_type": "code",
          "checksum": "4d77c30625b08f913e472743b5cdf129",
          "grade": true,
          "grade_id": "session_test",
          "locked": true,
          "points": 2,
          "schema_version": 3,
          "solution": false,
          "task": false
        },
        "pycharm": {
          "name": "#%%\n"
        },
        "tags": [],
        "id": "cca9b062-044f-439b-bf1d-f672cafe4946"
      },
      "outputs": [],
      "source": [
        "# run tests to check your implementation\n",
        "session = Session(date(year=2000, month=1, day=1), \"Dr. X\", \"blood_test\")\n",
        "assert session.session_date == date(year=2000, month=1, day=1) and session.physician_name == \"Dr. X\" and session.purpose == \"blood_test\" and len(session.notes) == 0, \"Ensure that you set all object attributes correctly\"\n",
        "with suppress(TypeError): Session(\"2000, 1, 1\", None, None); assert False, \"Ensure that you raise the correct type of Exception\"\n",
        "with suppress(TypeError): Session(date(year=2000, month=1, day=1), None, None); assert False, \"Ensure that you raise the correct type of Exception\"\n",
        "session.add_session_notes(\"anxiety\")\n",
        "assert set(map(type, session.notes)) == {datetime} and set(session.notes.values()) == {\"anxiety\"}, \"Ensure that you used datetime as key and the given notes as values\"\n",
        "assert str(session.session_date) in str(session) and session.physician_name in str(session) and session.purpose in str(session) and \"anxiety\" in str(session), \"Ensure that you use all relevant information in your string representation\""
      ]
    },
    {
      "cell_type": "markdown",
      "id": "d45196d6-8bb4-4697-9057-7514cb662f69",
      "metadata": {
        "pycharm": {
          "name": "#%% md\n"
        },
        "id": "d45196d6-8bb4-4697-9057-7514cb662f69"
      },
      "source": [
        "##### 2.3 Create the class ``Patient`` with all its three subparts **medication handling**, **session handling**, and **referral handling**, to do so:\n",
        "* Create a class ``Patient``\n",
        "* Create the constructor which takes ``name`` as parameter and saves it as an object attribute\n",
        "    * Initialize object attributes ``medications``, ``sessions``, and ``referrals`` as empty dictionaries\n",
        "    * Initialize an object attribute ``session_id`` with 0\n",
        "\n",
        "**Medication Handling:**\n",
        "* Create a method ``add_medication`` which takes an object of ``Medication`` as parameter ``medication``\n",
        "    * Add ``medication`` to the respective object attribute using its name as key\n",
        "* Create a method ``remove_medication`` with ``medication_name`` as parameter\n",
        "    * Remove the medication from the respective object attribute\n",
        "* Create a method ``update_medication_dosage`` with ``medication_name`` and ``new_dosage`` as parameters\n",
        "    * Update the dosage of the given medication\n",
        "* Create a method ``print_medications`` which prints all the prescribed medications for this patient using the defined string representation of ``Medication``\n",
        "\n",
        "**Session Handling:**\n",
        "* Create a methode ``increment_session_id`` which increments ``session_id`` by 1\n",
        "* Create a method ``add_therapy_session`` with ``session`` as parameter\n",
        "    * Perform a type check of ``session``. If it is of type ``Session`` add ``session`` to the respective object attribute using ``session_id``. Otherwise, raise a TypeError with a meaningful message.\n",
        "    * Note: ``session_id`` must be unique, first session gets an id equal to 0\n",
        "* Create a method ``get_session`` with ``session_id`` as parameter which returns the corresponding ``Session`` object\n",
        "* Create a method ``print_sessions`` which prints all sessions for this patient using the defined string representation of ``Session``\n",
        "\n",
        "**Referral Handling:**\n",
        "* Create a method ``refer_to_specialist`` with ``specialist`` (of type str) as parameter\n",
        "    * Add ``specialist`` to the respective object attribute using the current local date and time as key\n",
        "* Create a method ``print_referrals`` which prints all referrals for this patient\n",
        "\n",
        "**Testing:**\n",
        "* Create an instance of patient\n",
        "* Use the different methods to test your implementation\n",
        "* Try your ``print_...`` methods. Do they show all relevant information? If not check your string representations of ``Medication`` and ``Session``."
      ]
    },
    {
      "cell_type": "code",
      "execution_count": 40,
      "id": "dc411995",
      "metadata": {
        "deletable": false,
        "jupyter": {
          "outputs_hidden": false
        },
        "nbgrader": {
          "cell_type": "code",
          "checksum": "2a0fae42a5df435a99dd5ef4a78fa872",
          "grade": false,
          "grade_id": "patient",
          "locked": false,
          "schema_version": 3,
          "solution": true,
          "task": false
        },
        "pycharm": {
          "name": "#%%\n"
        },
        "tags": [],
        "id": "dc411995"
      },
      "outputs": [],
      "source": [
        "class Patient:\n",
        "    def __init__(self, name):\n",
        "        self.name = name\n",
        "        self.medications = {}\n",
        "        self.sessions = {}\n",
        "        self.referrals = {}\n",
        "        self.session_id = 0\n",
        "\n",
        "    def add_medication(self, medication):\n",
        "        \"\"\"Adds a Medication object to the patient's medications.\"\"\"\n",
        "        self.medications[medication.name] = medication\n",
        "\n",
        "    def remove_medication(self, medication_name):\n",
        "        \"\"\"Removes a medication by its name.\"\"\"\n",
        "        self.medications.pop(medication_name, None)\n",
        "\n",
        "    def update_medication_dosage(self, medication_name, new_dosage):\n",
        "        \"\"\"Updates the dosage of a specific medication.\"\"\"\n",
        "        if medication_name in self.medications:\n",
        "            self.medications[medication_name].update_dosage(new_dosage)\n",
        "        else:\n",
        "            print(f\"Medication '{medication_name}' not found for {self.name}.\")\n",
        "\n",
        "    def print_medications(self):\n",
        "        \"\"\"Prints all prescribed medications for the patient.\"\"\"\n",
        "        print(f\"Medications for {self.name}:\")\n",
        "        if not self.medications:\n",
        "            print(\"No medications prescribed.\")\n",
        "        else:\n",
        "            for medication in self.medications.values():\n",
        "                print(medication)\n",
        "\n",
        "\n",
        "    def increment_session_id(self):\n",
        "        \"\"\"Increments the session ID.\"\"\"\n",
        "        self.session_id += 1\n",
        "\n",
        "    def add_therapy_session(self, session):\n",
        "        \"\"\"Adds a Session object to the patient's sessions.\"\"\"\n",
        "        if isinstance(session, Session):\n",
        "            self.increment_session_id()\n",
        "            self.sessions[self.session_id] = session\n",
        "        else:\n",
        "            raise TypeError(\"session must be a Session object\")\n",
        "\n",
        "    def get_session(self, session_id):\n",
        "        \"\"\"Returns the Session object for a given session ID.\"\"\"\n",
        "        return self.sessions.get(session_id)\n",
        "\n",
        "    def print_sessions(self):\n",
        "        \"\"\"Prints all sessions for the patient.\"\"\"\n",
        "        print(f\"Sessions for {self.name}:\")\n",
        "        if not self.sessions:\n",
        "            print(\"No sessions recorded.\")\n",
        "        else:\n",
        "\n",
        "            for session_id in sorted(self.sessions.keys()):\n",
        "                print(f\"Session ID: {session_id}, {self.sessions[session_id]}\")\n",
        "\n",
        "\n",
        "\n",
        "    def refer_to_specialist(self, specialist):\n",
        "        \"\"\"Adds a referral to a specialist for the patient.\"\"\"\n",
        "        self.referrals[datetime.now()] = specialist\n",
        "\n",
        "    def print_referrals(self):\n",
        "        \"\"\"Prints all referrals for the patient.\"\"\"\n",
        "        print(f\"Referrals for {self.name}:\")\n",
        "        if not self.referrals:\n",
        "            print(\"No referrals recorded.\")\n",
        "        else:\n",
        "\n",
        "            for referral_time in sorted(self.referrals.keys()):\n",
        "                print(f\"{referral_time.strftime('%Y-%m-%d %H:%M:%S')}: {self.referrals[referral_time]}\")"
      ]
    },
    {
      "cell_type": "markdown",
      "id": "ee75e85d-9d34-4fca-9838-3022dbd6f707",
      "metadata": {
        "pycharm": {
          "name": "#%% md\n"
        },
        "id": "ee75e85d-9d34-4fca-9838-3022dbd6f707"
      },
      "source": [
        "Run tests to check your implementation for **medication handling**:"
      ]
    },
    {
      "cell_type": "code",
      "execution_count": 27,
      "id": "0fd2cf23-bb28-4b7d-a531-c62e47fe2bad",
      "metadata": {
        "deletable": false,
        "editable": false,
        "nbgrader": {
          "cell_type": "code",
          "checksum": "0e393a14097c5df4c56f7d13b2f20858",
          "grade": true,
          "grade_id": "patient_medication_test",
          "locked": true,
          "points": 2,
          "schema_version": 3,
          "solution": false,
          "task": false
        },
        "pycharm": {
          "name": "#%%\n"
        },
        "tags": [],
        "id": "0fd2cf23-bb28-4b7d-a531-c62e47fe2bad"
      },
      "outputs": [],
      "source": [
        "patient = Patient(\"Jane Doe\")\n",
        "assert patient.name == \"Jane Doe\" and len(patient.medications) == 0 and len(patient.sessions) == 0 and len(patient.referrals) == 0 and patient.session_id == 0, \"Ensure that you set all object attributes correctly\"\n",
        "med = Medication(\"Ibuprofen\", \"200 mg\")\n",
        "patient.add_medication(med)\n",
        "assert len(patient.medications) == 1 and set(patient.medications.keys()) == {med.name} and patient.medications[med.name] == med, \"Ensure that you used the medication name as key and the Medication object as value\"\n",
        "patient.update_medication_dosage(med.name, \"400 mg\")\n",
        "assert len(patient.medications) == 1 and patient.medications[med.name].dosage == \"400 mg\", \"Ensure that you used the Medication method update_dosage\"\n",
        "patient.remove_medication(med.name)\n",
        "assert len(patient.medications) == 0, \"Check if you delete the Medication object in remove_medication\""
      ]
    },
    {
      "cell_type": "markdown",
      "id": "37c503ef-7860-44b9-b1a8-7eb09b267411",
      "metadata": {
        "pycharm": {
          "name": "#%% md\n"
        },
        "id": "37c503ef-7860-44b9-b1a8-7eb09b267411"
      },
      "source": [
        "Run tests to check your implementation for **session handling**:"
      ]
    },
    {
      "cell_type": "code",
      "execution_count": null,
      "id": "ffc2a722-2bff-450d-a1bf-9cec18af7065",
      "metadata": {
        "deletable": false,
        "editable": false,
        "nbgrader": {
          "cell_type": "code",
          "checksum": "b0686066014a77508b032a41231c9238",
          "grade": true,
          "grade_id": "patient_session_test",
          "locked": true,
          "points": 2,
          "schema_version": 3,
          "solution": false,
          "task": false
        },
        "pycharm": {
          "name": "#%%\n"
        },
        "tags": [],
        "id": "ffc2a722-2bff-450d-a1bf-9cec18af7065"
      },
      "outputs": [],
      "source": [
        "patient = Patient(\"Jane Doe\")\n",
        "patient.increment_session_id()\n",
        "assert patient.session_id == 1, \"Check if your stored the incremented session_id as object attribute\"\n",
        "session = Session(date(year=2000, month=1, day=1), \"Dr. X\", \"blood_test\")\n",
        "patient.add_therapy_session(session)\n",
        "assert len(patient.sessions) == 1 and set(patient.sessions.keys()) == {1} and patient.sessions[1] == session, \"Ensure that you added the session correctly in add_therapy_session\"\n",
        "assert patient.session_id == 2, \"Check if you incremented session_id after session adding\"\n",
        "assert patient.get_session(1) == session, \"Ensure that you return the correct Session object\""
      ]
    },
    {
      "cell_type": "markdown",
      "id": "d2bba6fc-89c8-4068-a1a5-4f8ae66b3d47",
      "metadata": {
        "pycharm": {
          "name": "#%% md\n"
        },
        "id": "d2bba6fc-89c8-4068-a1a5-4f8ae66b3d47"
      },
      "source": [
        "Run tests to check your implementation for **referral handling**:"
      ]
    },
    {
      "cell_type": "code",
      "execution_count": null,
      "id": "5d02dc41-3c85-471a-9be5-145752f1c972",
      "metadata": {
        "deletable": false,
        "editable": false,
        "nbgrader": {
          "cell_type": "code",
          "checksum": "c996c00ebe6a134516cced5af26f3087",
          "grade": true,
          "grade_id": "referral_test",
          "locked": true,
          "points": 1,
          "schema_version": 3,
          "solution": false,
          "task": false
        },
        "pycharm": {
          "name": "#%%\n"
        },
        "tags": [],
        "id": "5d02dc41-3c85-471a-9be5-145752f1c972"
      },
      "outputs": [],
      "source": [
        "patient = Patient(\"Jane Doe\")\n",
        "patient.refer_to_specialist(\"psychologist\")\n",
        "assert len(patient.referrals) == 1 and set(map(type, patient.referrals.keys())) == {datetime} and set(patient.referrals.values()) == {\"psychologist\"}, \"Ensure that you added the referral correctly\""
      ]
    },
    {
      "cell_type": "markdown",
      "id": "eb4a1c72-785e-45f7-8eaa-c33b8502bd6a",
      "metadata": {
        "pycharm": {
          "name": "#%% md\n"
        },
        "id": "eb4a1c72-785e-45f7-8eaa-c33b8502bd6a"
      },
      "source": [
        "##### 2.4 Create the class ``Physician``, to do so:\n",
        "* Create a class ``Physician``\n",
        "* Create the constructor which takes ``name`` as parameter and stores it as an object attribute\n",
        "* Create the method ``schedule_session`` with ``session_date``, ``patient``, and ``purpose`` as parameters\n",
        "    * Create an instance of ``Session`` with the given information\n",
        "    * Add the session to the therapy sessions of ``patient``\n",
        "* Create the method ``add_session_notes`` with ``patient``, ``session_id``, and ``notes`` as parameters\n",
        "    * Use the ``get_session`` method of ``patient`` to get the respective ``Session`` object of ``session_id``\n",
        "    * add ``notes`` to the session"
      ]
    },
    {
      "cell_type": "code",
      "execution_count": 41,
      "id": "90307baf",
      "metadata": {
        "deletable": false,
        "jupyter": {
          "outputs_hidden": false
        },
        "nbgrader": {
          "cell_type": "code",
          "checksum": "ab4099c84412d84e6d077ab670e9508a",
          "grade": false,
          "grade_id": "physician",
          "locked": false,
          "schema_version": 3,
          "solution": true,
          "task": false
        },
        "pycharm": {
          "name": "#%%\n"
        },
        "tags": [],
        "id": "90307baf"
      },
      "outputs": [],
      "source": [
        "class Patient:\n",
        "    def __init__(self, name):\n",
        "        self.name = name\n",
        "        self.medications = {}\n",
        "        self.sessions = {}\n",
        "        self.referrals = {}\n",
        "        self.session_id = 0\n",
        "\n",
        "\n",
        "    def add_medication(self, medication):\n",
        "        \"\"\"Adds a Medication object to the patient's medications.\"\"\"\n",
        "        self.medications[medication.name] = medication\n",
        "\n",
        "    def remove_medication(self, medication_name):\n",
        "        \"\"\"Removes a medication by its name.\"\"\"\n",
        "        self.medications.pop(medication_name, None)\n",
        "\n",
        "    def update_medication_dosage(self, medication_name, new_dosage):\n",
        "        \"\"\"Updates the dosage of a specific medication.\"\"\"\n",
        "        if medication_name in self.medications:\n",
        "            self.medications[medication_name].update_dosage(new_dosage)\n",
        "        else:\n",
        "            print(f\"Medication '{medication_name}' not found for {self.name}.\")\n",
        "\n",
        "    def print_medications(self):\n",
        "        \"\"\"Prints all prescribed medications for the patient.\"\"\"\n",
        "        print(f\"Medications for {self.name}:\")\n",
        "        if not self.medications:\n",
        "            print(\"No medications prescribed.\")\n",
        "        else:\n",
        "            for medication in self.medications.values():\n",
        "                print(medication)\n",
        "\n",
        "    def increment_session_id(self):\n",
        "        \"\"\"Increments the session ID.\"\"\"\n",
        "        self.session_id += 1\n",
        "\n",
        "    def add_therapy_session(self, session):\n",
        "        \"\"\"Adds a Session object to the patient's sessions.\"\"\"\n",
        "        if isinstance(session, Session):\n",
        "\n",
        "            self.sessions[self.session_id] = session\n",
        "\n",
        "            self.increment_session_id()\n",
        "        else:\n",
        "            raise TypeError(\"session must be a Session object\")\n",
        "\n",
        "    def get_session(self, session_id):\n",
        "        \"\"\"Returns the Session object for a given session ID.\"\"\"\n",
        "        return self.sessions.get(session_id)\n",
        "\n",
        "    def print_sessions(self):\n",
        "        \"\"\"Prints all sessions for the patient.\"\"\"\n",
        "        print(f\"Sessions for {self.name}:\")\n",
        "        if not self.sessions:\n",
        "            print(\"No sessions recorded.\")\n",
        "        else:\n",
        "\n",
        "            for session_id in sorted(self.sessions.keys()):\n",
        "                print(f\"Session ID: {session_id}, {self.sessions[session_id]}\")\n",
        "\n",
        "\n",
        "\n",
        "    def refer_to_specialist(self, specialist):\n",
        "        \"\"\"Adds a referral to a specialist for the patient.\"\"\"\n",
        "        self.referrals[datetime.now()] = specialist\n",
        "\n",
        "    def print_referrals(self):\n",
        "        \"\"\"Prints all referrals for the patient.\"\"\"\n",
        "        print(f\"Referrals for {self.name}:\")\n",
        "        if not self.referrals:\n",
        "            print(\"No referrals recorded.\")\n",
        "        else:\n",
        "\n",
        "            for referral_time in sorted(self.referrals.keys()):\n",
        "                print(f\"{referral_time.strftime('%Y-%m-%d %H:%M:%S')}: {self.referrals[referral_time]}\")"
      ]
    },
    {
      "cell_type": "code",
      "execution_count": 43,
      "id": "937be341-54d2-4acf-9e0f-7f3960f5e637",
      "metadata": {
        "deletable": false,
        "editable": false,
        "nbgrader": {
          "cell_type": "code",
          "checksum": "a34b90aed75c4277071bb282ba5308cb",
          "grade": true,
          "grade_id": "physician_test",
          "locked": true,
          "points": 2,
          "schema_version": 3,
          "solution": false,
          "task": false
        },
        "pycharm": {
          "name": "#%%\n"
        },
        "tags": [],
        "id": "937be341-54d2-4acf-9e0f-7f3960f5e637"
      },
      "outputs": [],
      "source": [
        "# run tests to check your implementation\n",
        "physician = Physician(\"Dr. X\")\n",
        "assert physician.name == \"Dr. X\"\n",
        "patient = Patient(\"Jane Doe\")\n",
        "physician.schedule_session(date(2000, 1, 1), patient, \"blood_test\")\n",
        "assert len(patient.sessions) == 1, \"Ensure that you use the patient's add_therapy_session method\"\n",
        "physician.add_session_notes(patient, 0, \"patient reported anxiety\")\n",
        "session = patient.get_session(0)\n",
        "assert set(session.notes.values()) == {\"patient reported anxiety\"}, \"Ensure that you used the add_session_notes of session\""
      ]
    },
    {
      "cell_type": "markdown",
      "id": "7be94c22-36c3-4373-a8cf-2530acefe766",
      "metadata": {
        "pycharm": {
          "name": "#%% md\n"
        },
        "id": "7be94c22-36c3-4373-a8cf-2530acefe766"
      },
      "source": [
        "##### 2.5 Create the class ``PrimaryCarePhysician``, to do so:\n",
        "* Create a class ``PrimaryCarePhysician`` that inherits from ``Physician``\n",
        "* Create a method ``refer_to_specialist`` with ``patient`` and ``specialist`` (type str) as parameters\n",
        "    * Use the ``refer_to_specialist`` method from ``Patient`` to add the referral to ``patient``"
      ]
    },
    {
      "cell_type": "code",
      "execution_count": 44,
      "id": "e7cfe88b",
      "metadata": {
        "deletable": false,
        "jupyter": {
          "outputs_hidden": false
        },
        "nbgrader": {
          "cell_type": "code",
          "checksum": "0e07ad1d0e8fbd25d6cb8b9bf6f7d8a8",
          "grade": false,
          "grade_id": "prim_care_physician",
          "locked": false,
          "schema_version": 3,
          "solution": true,
          "task": false
        },
        "pycharm": {
          "name": "#%%\n"
        },
        "tags": [],
        "id": "e7cfe88b"
      },
      "outputs": [],
      "source": [
        "class PrimaryCarePhysician(Physician):\n",
        "    def refer_to_specialist(self, patient, specialist):\n",
        "        patient.refer_to_specialist(specialist)"
      ]
    },
    {
      "cell_type": "code",
      "execution_count": 42,
      "id": "71c68e64-2ef3-4296-b5f8-06a2238b740e",
      "metadata": {
        "deletable": false,
        "editable": false,
        "nbgrader": {
          "cell_type": "code",
          "checksum": "7d2753c47e6df096c5f06dfa9dfd123f",
          "grade": true,
          "grade_id": "prim_care_physician_test",
          "locked": true,
          "points": 1,
          "schema_version": 3,
          "solution": false,
          "task": false
        },
        "pycharm": {
          "name": "#%%\n"
        },
        "tags": [],
        "id": "71c68e64-2ef3-4296-b5f8-06a2238b740e"
      },
      "outputs": [],
      "source": [
        "# run tests to check your implementation\n",
        "prim_care_phys = PrimaryCarePhysician(\"Dr. Z\")\n",
        "patient = Patient(\"Jane Doe\")\n",
        "prim_care_phys.schedule_session(date(2000, 1, 1), patient, \"blood_test\")\n",
        "assert len(patient.sessions) == 1, \"Ensure that PrimaryCarePhysician inherits all properties from Physician\"\n",
        "prim_care_phys.refer_to_specialist(patient, \"psychologist\")\n",
        "assert len(patient.referrals) == 1, \"Ensure that you used the patient's refer_to_specialist method\""
      ]
    },
    {
      "cell_type": "markdown",
      "id": "6a9be680-6d91-4f2f-8a80-33fb5e547efb",
      "metadata": {
        "pycharm": {
          "name": "#%% md\n"
        },
        "id": "6a9be680-6d91-4f2f-8a80-33fb5e547efb"
      },
      "source": [
        "##### 2.6 Play around with the patient's medical records system that you created:\n",
        "* Create one or more patients\n",
        "* Create different physicians and schedule sessions for your patients\n",
        "* Add the session notes\n",
        "* Add, remove, and change your patients' medications\n",
        "* refer your patients to different specialists\n",
        "* Use your patients' visualization system (``print_medications()``... methods) to keep track of all the changes"
      ]
    },
    {
      "cell_type": "code",
      "execution_count": 36,
      "id": "1471bbd4-0a30-419e-94a4-7a5e5ec3cf89",
      "metadata": {
        "deletable": false,
        "nbgrader": {
          "cell_type": "code",
          "checksum": "6600ac3b0e4cefff0afe8dbd8f0e054c",
          "grade": false,
          "grade_id": "playground",
          "locked": false,
          "schema_version": 3,
          "solution": true,
          "task": false
        },
        "pycharm": {
          "name": "#%%\n"
        },
        "tags": [],
        "id": "1471bbd4-0a30-419e-94a4-7a5e5ec3cf89"
      },
      "outputs": [],
      "source": [
        "patient1 = Patient(\"Alice\")\n",
        "patient2 = Patient(\"Bob\")"
      ]
    },
    {
      "cell_type": "code",
      "execution_count": null,
      "id": "dd422d82-e13f-4b50-8e35-e8ad4f3f93c7",
      "metadata": {
        "pycharm": {
          "name": "#%%\n"
        },
        "id": "dd422d82-e13f-4b50-8e35-e8ad4f3f93c7"
      },
      "outputs": [],
      "source": []
    }
  ],
  "metadata": {
    "kernelspec": {
      "display_name": "Python 3",
      "name": "python3"
    },
    "language_info": {
      "name": "python"
    },
    "colab": {
      "provenance": [],
      "include_colab_link": true
    }
  },
  "nbformat": 4,
  "nbformat_minor": 5
}